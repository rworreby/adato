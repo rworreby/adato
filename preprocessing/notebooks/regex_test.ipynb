{
 "cells": [
  {
   "cell_type": "code",
   "execution_count": null,
   "metadata": {},
   "outputs": [],
   "source": [
    "import re\n",
    "\n",
    "import numpy as np\n",
    "import pandas as pd\n",
    "\n",
    "import matplotlib.pyplot as plt\n",
    "import seaborn as sns"
   ]
  },
  {
   "cell_type": "code",
   "execution_count": null,
   "metadata": {},
   "outputs": [],
   "source": [
    "sns.set_style('dark')\n",
    "pd.options.display.max_rows = 999"
   ]
  },
  {
   "cell_type": "code",
   "execution_count": null,
   "metadata": {},
   "outputs": [],
   "source": [
    "examples = ['If you think you may ...',\n",
    "            'Reuters - Short-sellers ...',\n",
    "            'Reuters -- Short-sellers ...',\n",
    "            'Forbes.com - After earning ...',\n",
    "            'NEW YORK (Reuters) - Short-sellers ...',\n",
    "            'TEHRAN (Reuters) - OPEC can ...',\n",
    "            'WASHINGTON/NEW YORK (Reuters) - The auction ...',\n",
    "            'NAJAF, Iraq - U.S. tanks and ...',\n",
    "            'CARACAS, Venezuela (Reuters) - Venezuelans crowded ...',\n",
    "            'OTTAWA (CP) - Canada\\'s police ...'\n",
    "           ]"
   ]
  },
  {
   "cell_type": "code",
   "execution_count": null,
   "metadata": {},
   "outputs": [],
   "source": [
    "def clean_remark_from_string(example):\n",
    "    regex = r'^\\w+(?:\\s\\w+)?(?:,\\s)?(?:/\\w+\\s?\\w+)?(?:\\.?\\w+)?(?:\\s\\(\\w+\\))?(?:\\s-\\s)+(.*)'\n",
    "    \n",
    "    regex = r'''^\n",
    "                \\w+\n",
    "                (?:\\s\\w+)?\n",
    "                (?:,\\s)?\n",
    "                (?:/\\w+\\s?\\w+)?\n",
    "                (?:\\.?\\w+)?\n",
    "                (?:\\s\\(\\w+\\))?\n",
    "                (?:\\s-{1,2}\\s)+\n",
    "                (.*)\n",
    "             '''\n",
    "    m = re.search(regex, example, re.M|re.X)\n",
    "    print(m)\n",
    "    if m:\n",
    "        # m = re.search(regex, row)\n",
    "        return m.group(1)\n",
    "    else:\n",
    "        return example\n",
    "\n",
    "for example in examples:\n",
    "    print(clean_remark_from_string(example))\n",
    "    print()"
   ]
  }
 ],
 "metadata": {
  "kernelspec": {
   "display_name": "adato_venv",
   "language": "python",
   "name": "adato_venv"
  },
  "language_info": {
   "codemirror_mode": {
    "name": "ipython",
    "version": 3
   },
   "file_extension": ".py",
   "mimetype": "text/x-python",
   "name": "python",
   "nbconvert_exporter": "python",
   "pygments_lexer": "ipython3",
   "version": "3.7.7"
  }
 },
 "nbformat": 4,
 "nbformat_minor": 4
}
