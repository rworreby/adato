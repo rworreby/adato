{
 "cells": [
  {
   "cell_type": "code",
   "execution_count": null,
   "metadata": {},
   "outputs": [],
   "source": [
    "import re\n",
    "\n",
    "import numpy as np\n",
    "import pandas as pd\n",
    "\n",
    "import matplotlib.pyplot as plt\n",
    "import seaborn as sns"
   ]
  },
  {
   "cell_type": "code",
   "execution_count": null,
   "metadata": {},
   "outputs": [],
   "source": [
    "sns.set_style('dark')\n",
    "pd.options.display.max_rows = 999"
   ]
  },
  {
   "cell_type": "code",
   "execution_count": null,
   "metadata": {},
   "outputs": [],
   "source": [
    "path = '../../data/'\n",
    "train_df = pd.read_csv(path + 'train.csv', header=0, names=['classid', 'title', 'description'])\n",
    "test_df = pd.read_csv(path + 'test.csv', header=0, names=['classid', 'title', 'description'])"
   ]
  },
  {
   "cell_type": "code",
   "execution_count": null,
   "metadata": {},
   "outputs": [],
   "source": [
    "df = pd.concat([train_df, test_df])\n",
    "df.reset_index(inplace=True, drop=True)"
   ]
  },
  {
   "cell_type": "code",
   "execution_count": null,
   "metadata": {},
   "outputs": [],
   "source": [
    "df.title"
   ]
  },
  {
   "cell_type": "code",
   "execution_count": null,
   "metadata": {},
   "outputs": [],
   "source": [
    "df.title = df.title.str.replace(' #39;', \"'\")\n",
    "\n",
    "df.description = df.description.str.replace(' #39;', \"'\")\n",
    "df.description = df.description.str.replace(r'\\\\', ' ') # 2\n",
    "df.description = df.description.str.replace(r'\\\\\\\\', ' ') # 180\n",
    "df.description = df.description.str.strip(r' \\\\\\n\\t\\'\\\"')\n",
    "\n",
    "df.description = df.description.str.replace(r'\\s\\s+', ' ', regex=True) "
   ]
  },
  {
   "cell_type": "code",
   "execution_count": null,
   "metadata": {
    "scrolled": true
   },
   "outputs": [],
   "source": [
    " df.title"
   ]
  },
  {
   "cell_type": "markdown",
   "metadata": {},
   "source": [
    "## Data Cleaning"
   ]
  },
  {
   "cell_type": "code",
   "execution_count": null,
   "metadata": {
    "scrolled": false
   },
   "outputs": [],
   "source": [
    "df.drop_duplicates(subset=['description'], inplace=True)\n",
    "df.drop_duplicates(subset=['title'], inplace=True)\n",
    "\n",
    "df['title_remark'] = \"\"\n",
    "df['description_start_0'] = \"\"\n",
    "df['description_start_1'] = \"\"\n",
    "df['description_start_2'] = \"\"\n",
    "df['cleaned_description'] = \"\"\n",
    "df['location'] = \"\"\n",
    "df.shape"
   ]
  },
  {
   "cell_type": "code",
   "execution_count": null,
   "metadata": {
    "scrolled": true
   },
   "outputs": [],
   "source": [
    "loc = 170\n",
    "print(df.iloc[loc].title)\n",
    "print(df.iloc[loc].description)"
   ]
  },
  {
   "cell_type": "code",
   "execution_count": null,
   "metadata": {},
   "outputs": [],
   "source": [
    "title_remark_re = r'(?:.*)\\s\\((\\w*\\.?(?:\\w+)+)\\)$'\n",
    "df['title_remark'] = df['title'].str.extract(title_remark_re)\n",
    "\n",
    "\n",
    "def clean_remark_from_title(row):\n",
    "    regex = r'(.*)\\s\\((\\w*\\.?(?:\\w+)+)\\)$'\n",
    "    m = re.search(regex, row)\n",
    "    if m:\n",
    "        # m = re.search(regex, row)\n",
    "        return m.group(1)\n",
    "    else:\n",
    "        return row\n",
    "    \n",
    "df['title'] = df['title'].apply(clean_remark_from_title)"
   ]
  },
  {
   "cell_type": "code",
   "execution_count": null,
   "metadata": {},
   "outputs": [],
   "source": [
    "df.title"
   ]
  },
  {
   "cell_type": "code",
   "execution_count": null,
   "metadata": {},
   "outputs": [],
   "source": [
    "df.description"
   ]
  },
  {
   "cell_type": "code",
   "execution_count": null,
   "metadata": {},
   "outputs": [],
   "source": [
    "### TEST\n",
    "\n",
    "def clean_description(row):\n",
    "    regex = r'''^\n",
    "                (?:\\w*\\.?(?:\\w+)+)\n",
    "                (?:\\s*-{1,2}\\s+)\n",
    "                (.*)\n",
    "                |\n",
    "                (?:(?:\\w+\\s)+)\n",
    "                \\((?:\\w+)\\)\n",
    "                (?:\\s*-{1,2}\\s+)\n",
    "                (.*)\n",
    "            '''\n",
    "    #regex = '(.*)\\s\\((\\w*\\.?(?:\\w+)+)\\)$'\n",
    "    \n",
    "    m = re.search(regex, row, re.M|re.X)\n",
    "    \n",
    "    if m:\n",
    "        print(m.group(1))\n",
    "        return m.group(1)\n",
    "    else:\n",
    "        return row\n",
    "    \n",
    "    \n",
    "df['description'] = df['description'].apply(clean_description)"
   ]
  },
  {
   "cell_type": "code",
   "execution_count": null,
   "metadata": {},
   "outputs": [],
   "source": [
    "df.description"
   ]
  },
  {
   "cell_type": "code",
   "execution_count": null,
   "metadata": {},
   "outputs": [],
   "source": [
    "desc_1_re = r'^(\\w+)(?:\\s+-{1,2}\\s+)(?:.*)'\n",
    "df['description_start_0'] = df['description'].str.extract(desc_1_re)\n",
    "\n",
    "\"\"\"\n",
    "desc_2_re = r'^(?:\\w+\\s)+\\((\\w+)\\)(?:\\s+-{1,2}\\s+)(?:.*)'\n",
    "df['description_start_1'] = df['description'].str.extract(desc_2_re)\n",
    "\n",
    "desc_3_re = r'^(\\w*\\.?\\s?\\w+)+(?:\\s+-{1,2}\\s+)(?:.*)'\n",
    "df['description_start_2'] = df['description'].str.extract(desc_3_re)\n",
    "\"\"\"\n",
    "\n",
    "def clean_beginning_from_description(row):\n",
    "    regex = r'''^\n",
    "                (?:\\w*\\.?(?:\\w+)+)\n",
    "                (?:\\s*+{1,2}\\s+)\n",
    "                (.*)\n",
    "                |\n",
    "                (?:(?:\\w+\\s)+)\n",
    "                \\((?:\\w+)\\)\n",
    "                (?:\\s+-{1,2}\\s+)\n",
    "                (.*)\n",
    "            '''\n",
    "    m = re.search(regex, row, re.M|re.X)\n",
    "    if m.group(1):\n",
    "        #print(re.search(regex, row, re.M|re.X))\n",
    "        # m = re.search(regex, row, re.M|re.X)\n",
    "        #print(m.groups())\n",
    "     \n",
    "        return m.group(1)\n",
    "        \n",
    "    else:\n",
    "        return row\n",
    "\n",
    "# df['cleaned_description'] = df['description'].apply(clean_beginning_from_description)\n",
    "    \n",
    "\"\"\"\n",
    "# Capture institution (and place) at beginning of description\n",
    "regex = r'''^\n",
    "            (\\w*\\.?(?:\\w+)+)\n",
    "            (?:\\s-{0,2}\\s)\n",
    "            (.*)\n",
    "            |\n",
    "            ((?:\\w+\\s)+)\n",
    "            \\((\\w+)\\)\n",
    "            (?:\\s-{0,2}\\s)\n",
    "            (.*)\n",
    "        '''\n",
    "\n",
    "for i in range(len(df)):\n",
    "    m = re.search(regex, df.iloc[i].description, re.M|re.X)\n",
    "    if m:\n",
    "        if m.group(1):\n",
    "            #print(m.groups())        \n",
    "            df.iat[i, 4] = m.group(1)\n",
    "            df.iat[i, 5] = m.group(2)\n",
    "        elif m.group(3):\n",
    "            #print(m.groups())\n",
    "            df.iat[i, 4] = m.group(4)\n",
    "            df.iat[i, 5] = m.group(5)\n",
    "            df.iat[i, 6] = m.group(3)\n",
    "#m = re.search(regex, df.iloc[3].description)\n",
    "#print(m.groups())\n",
    "\"\"\""
   ]
  },
  {
   "cell_type": "code",
   "execution_count": null,
   "metadata": {
    "scrolled": true
   },
   "outputs": [],
   "source": [
    "df"
   ]
  },
  {
   "cell_type": "code",
   "execution_count": null,
   "metadata": {
    "scrolled": true
   },
   "outputs": [],
   "source": [
    "df['final_description'] = df['cleaned_description'].apply(\n",
    "    lambda x: x if len(x) > 0 else \"\"\n",
    ")\n",
    "\n",
    "df.loc[df['cleaned_description'] == '', 'final_description'] = df['description']"
   ]
  },
  {
   "cell_type": "code",
   "execution_count": null,
   "metadata": {},
   "outputs": [],
   "source": [
    "df.drop_duplicates(subset=['description'], inplace=True)\n",
    "df.drop_duplicates(subset=['title'], inplace=True)"
   ]
  },
  {
   "cell_type": "code",
   "execution_count": null,
   "metadata": {
    "scrolled": true
   },
   "outputs": [],
   "source": [
    "df"
   ]
  },
  {
   "cell_type": "markdown",
   "metadata": {},
   "source": [
    "## Processing Data"
   ]
  },
  {
   "cell_type": "code",
   "execution_count": null,
   "metadata": {},
   "outputs": [],
   "source": []
  },
  {
   "cell_type": "markdown",
   "metadata": {},
   "source": [
    "## Splitting Data in Train / Test"
   ]
  },
  {
   "cell_type": "code",
   "execution_count": null,
   "metadata": {
    "scrolled": false
   },
   "outputs": [],
   "source": [
    "train_data = df.loc[:120000]\n",
    "test_data = df.loc[120000:]\n",
    "\n",
    "print(train_data.shape)\n",
    "print(test_data.shape)\n",
    "\"\"\"\n",
    "x_train, x_test, y_train, y_test = train_test_split(\n",
    "    X, y, test_size=0.33, random_state=42\n",
    ")\n",
    "\"\"\""
   ]
  }
 ],
 "metadata": {
  "kernelspec": {
   "display_name": "adato_venv",
   "language": "python",
   "name": "adato_venv"
  },
  "language_info": {
   "codemirror_mode": {
    "name": "ipython",
    "version": 3
   },
   "file_extension": ".py",
   "mimetype": "text/x-python",
   "name": "python",
   "nbconvert_exporter": "python",
   "pygments_lexer": "ipython3",
   "version": "3.7.7"
  }
 },
 "nbformat": 4,
 "nbformat_minor": 4
}
