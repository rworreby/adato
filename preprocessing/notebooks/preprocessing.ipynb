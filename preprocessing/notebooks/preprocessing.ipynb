{
 "cells": [
  {
   "cell_type": "code",
   "execution_count": null,
   "metadata": {},
   "outputs": [],
   "source": [
    "import re\n",
    "\n",
    "import numpy as np\n",
    "import pandas as pd\n",
    "\n",
    "import matplotlib.pyplot as plt\n",
    "import seaborn as sns"
   ]
  },
  {
   "cell_type": "code",
   "execution_count": null,
   "metadata": {},
   "outputs": [],
   "source": [
    "sns.set_style('dark')\n",
    "pd.options.display.max_rows = 999"
   ]
  },
  {
   "cell_type": "code",
   "execution_count": null,
   "metadata": {},
   "outputs": [],
   "source": [
    "path = '../../data/'\n",
    "train_df = pd.read_csv(path + 'train.csv', header=0, names=['classid', 'title', 'description'])\n",
    "test_df = pd.read_csv(path + 'test.csv', header=0, names=['classid', 'title', 'description'])"
   ]
  },
  {
   "cell_type": "code",
   "execution_count": null,
   "metadata": {},
   "outputs": [],
   "source": [
    "df = pd.concat([train_df, test_df])\n",
    "df.reset_index(inplace=True, drop=True)"
   ]
  },
  {
   "cell_type": "markdown",
   "metadata": {},
   "source": [
    "## Data Cleaning"
   ]
  },
  {
   "cell_type": "code",
   "execution_count": null,
   "metadata": {},
   "outputs": [],
   "source": [
    "samples = df.shape[0]"
   ]
  },
  {
   "cell_type": "code",
   "execution_count": null,
   "metadata": {
    "scrolled": false
   },
   "outputs": [],
   "source": [
    "df.drop_duplicates(subset=['description'], inplace=True)\n",
    "df.drop_duplicates(subset=['title'], inplace=True)\n",
    "samples = len(df)\n",
    "\n",
    "df['title_remark'] = \"\"\n",
    "df['description_start'] = \"\"\n",
    "df['cleaned_description'] = \"\"\n",
    "df['location'] = \"\"\n",
    "df.shape"
   ]
  },
  {
   "cell_type": "code",
   "execution_count": null,
   "metadata": {},
   "outputs": [],
   "source": [
    "loc = 170\n",
    "print(df.iloc[loc].title)\n",
    "print(df.iloc[loc].description)"
   ]
  },
  {
   "cell_type": "code",
   "execution_count": null,
   "metadata": {},
   "outputs": [],
   "source": [
    "# Capture institution name at end of title\n",
    "regex = r'(.*)\\s\\((\\w*\\.?(?:\\w+)+)\\)$'\n",
    "\n",
    "for i in range(samples):\n",
    "    m = re.search(regex, df.iloc[i].title)\n",
    "    if m:\n",
    "        df.iat[i, 1] = m.group(1)\n",
    "        df.iat[i, 3] = m.group(2)\n",
    "        \n",
    "df.shape"
   ]
  },
  {
   "cell_type": "code",
   "execution_count": null,
   "metadata": {},
   "outputs": [],
   "source": [
    "# Remove leading and trailing special characters\n",
    "regex = r'''^\n",
    "            \\\\\"(.*)\"\n",
    "            |\n",
    "            \\\\'(.*)'\n",
    "            |\n",
    "            '(.*)'\n",
    "            |\n",
    "            \"(.*)\"\n",
    "            '''\n",
    "\n",
    "for i in range(samples):\n",
    "    m = re.search(regex, df.iloc[i].description)\n",
    "    if m:\n",
    "        df.iat[i, 2] = m.group(1)"
   ]
  },
  {
   "cell_type": "code",
   "execution_count": null,
   "metadata": {
    "scrolled": true
   },
   "outputs": [],
   "source": [
    "df.title_remark.value_counts()"
   ]
  },
  {
   "cell_type": "code",
   "execution_count": null,
   "metadata": {},
   "outputs": [],
   "source": [
    "# Capture institution (and place) at beginning of description\n",
    "regex = r'''^\n",
    "            (\\w*\\.?(?:\\w+)+)\n",
    "            (?:\\s-{0,2}\\s)\n",
    "            (.*)\n",
    "            |\n",
    "            ((?:\\w+\\s)+)\n",
    "            \\((\\w+)\\)\n",
    "            (?:\\s-{0,2}\\s)\n",
    "            (.*)\n",
    "            '''\n",
    "for i in range(samples):\n",
    "    m = re.search(regex, df.iloc[i].description, re.M|re.X)\n",
    "    if m:\n",
    "        if m.group(1):\n",
    "            print(m.groups())        \n",
    "            df.iat[i, 4] = m.group(1)\n",
    "            df.iat[i, 5] = m.group(2)\n",
    "        elif m.group(3):\n",
    "            #print(m.groups())\n",
    "            df.iat[i, 4] = m.group(4)\n",
    "            df.iat[i, 5] = m.group(5)\n",
    "            df.iat[i, 6] = m.group(3)\n",
    "#m = re.search(regex, df.iloc[3].description)\n",
    "#print(m.groups())"
   ]
  },
  {
   "cell_type": "code",
   "execution_count": null,
   "metadata": {},
   "outputs": [],
   "source": [
    "df.cleaned_description.value_counts()"
   ]
  },
  {
   "cell_type": "code",
   "execution_count": null,
   "metadata": {},
   "outputs": [],
   "source": [
    "# Regex test\n",
    "\n",
    "regex = r'''^\n",
    "            \\\\\\\\\"(.*)\"\n",
    "            |\n",
    "            \\\\\\\\(.*)\n",
    "            '''\n",
    "\n",
    "m = re.search(regex, r\"\\\\PC World - Developers bla bla bla some random text\", re.X)\n",
    "\n",
    "if m:\n",
    "    print(m.groups())"
   ]
  },
  {
   "cell_type": "code",
   "execution_count": null,
   "metadata": {
    "scrolled": false
   },
   "outputs": [],
   "source": [
    "df"
   ]
  },
  {
   "cell_type": "code",
   "execution_count": null,
   "metadata": {},
   "outputs": [],
   "source": [
    "df.drop_duplicates(subset=['description'], inplace=True)\n",
    "df.drop_duplicates(subset=['title'], inplace=True)\n",
    "samples = len(df)"
   ]
  },
  {
   "cell_type": "code",
   "execution_count": null,
   "metadata": {
    "scrolled": false
   },
   "outputs": [],
   "source": [
    "df.institution.value_counts()\n",
    "df.cleaned_description.value_counts()\n",
    "df.location.value_counts()"
   ]
  },
  {
   "cell_type": "markdown",
   "metadata": {},
   "source": [
    "## Processing Data"
   ]
  },
  {
   "cell_type": "code",
   "execution_count": null,
   "metadata": {},
   "outputs": [],
   "source": []
  },
  {
   "cell_type": "markdown",
   "metadata": {},
   "source": [
    "## Splitting Data in Train / Test"
   ]
  },
  {
   "cell_type": "code",
   "execution_count": null,
   "metadata": {
    "scrolled": false
   },
   "outputs": [],
   "source": [
    "train_data = df.loc[:120000]\n",
    "test_data = df.loc[120000:]\n",
    "\n",
    "print(train_data.shape)\n",
    "print(test_data.shape)\n",
    "\"\"\"\n",
    "x_train, x_test, y_train, y_test = train_test_split(\n",
    "    X, y, test_size=0.33, random_state=42\n",
    ")\n",
    "\"\"\""
   ]
  }
 ],
 "metadata": {
  "kernelspec": {
   "display_name": "adato_venv",
   "language": "python",
   "name": "adato_venv"
  },
  "language_info": {
   "codemirror_mode": {
    "name": "ipython",
    "version": 3
   },
   "file_extension": ".py",
   "mimetype": "text/x-python",
   "name": "python",
   "nbconvert_exporter": "python",
   "pygments_lexer": "ipython3",
   "version": "3.7.7"
  }
 },
 "nbformat": 4,
 "nbformat_minor": 4
}
